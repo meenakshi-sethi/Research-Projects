{
 "cells": [
  {
   "cell_type": "markdown",
   "id": "364643e9-404c-41b0-ab7b-ac847c590329",
   "metadata": {},
   "source": [
    "#### Research Project: \n",
    "\n",
    "# Understanding Hygiene Habits & Attitudes in the Post-Pandemic Era"
   ]
  },
  {
   "cell_type": "markdown",
   "id": "741203e8-7d79-426a-bd2a-b0d7f4675f31",
   "metadata": {},
   "source": [
    "#### Importing Libraries"
   ]
  },
  {
   "cell_type": "code",
   "execution_count": 87,
   "id": "5e85c3ba",
   "metadata": {},
   "outputs": [],
   "source": [
    "import pandas as pd\n",
    "import numpy as np\n",
    "import matplotlib.pyplot as plt\n",
    "import seaborn as sns\n",
    "import scipy.stats as stats\n",
    "import statsmodels.api as sm\n",
    "from sklearn.preprocessing import LabelEncoder, OneHotEncoder\n",
    "from sklearn.model_selection import train_test_split, cross_val_score\n",
    "from sklearn.linear_model import LogisticRegression, LinearRegression\n",
    "from sklearn.metrics import accuracy_score, mean_squared_error\n",
    "from category_encoders import OrdinalEncoder  # If you choose to use it\n",
    "from sklearn.metrics import accuracy_score, classification_report, confusion_matrix\n",
    "\n",
    "import warnings\n",
    "warnings.filterwarnings(\"ignore\")"
   ]
  },
  {
   "cell_type": "markdown",
   "id": "4c3ececf-078a-460c-84f2-6f11d9ae6e8d",
   "metadata": {},
   "source": [
    "#### Exploring Dataset"
   ]
  },
  {
   "cell_type": "code",
   "execution_count": 88,
   "id": "fc6b0cfa",
   "metadata": {},
   "outputs": [
    {
     "data": {
      "text/html": [
       "<div>\n",
       "<style scoped>\n",
       "    .dataframe tbody tr th:only-of-type {\n",
       "        vertical-align: middle;\n",
       "    }\n",
       "\n",
       "    .dataframe tbody tr th {\n",
       "        vertical-align: top;\n",
       "    }\n",
       "\n",
       "    .dataframe thead th {\n",
       "        text-align: right;\n",
       "    }\n",
       "</style>\n",
       "<table border=\"1\" class=\"dataframe\">\n",
       "  <thead>\n",
       "    <tr style=\"text-align: right;\">\n",
       "      <th></th>\n",
       "      <th>ID</th>\n",
       "      <th>Start_time</th>\n",
       "      <th>Completion_time</th>\n",
       "      <th>Age_Range</th>\n",
       "      <th>Gender</th>\n",
       "      <th>Employment Status</th>\n",
       "      <th>Country</th>\n",
       "      <th>Covid_Impact</th>\n",
       "      <th>Hygiene_Concern</th>\n",
       "      <th>Hygiene_Product</th>\n",
       "      <th>...</th>\n",
       "      <th>PostCOVID_Spend</th>\n",
       "      <th>Purchase_Frequency</th>\n",
       "      <th>Usage_Change</th>\n",
       "      <th>Products_Essential</th>\n",
       "      <th>Awareness_Impact</th>\n",
       "      <th>Info_Source</th>\n",
       "      <th>Purchase_Factors</th>\n",
       "      <th>Brand_Switch</th>\n",
       "      <th>Health_Belief</th>\n",
       "      <th>Precautions_Continuity</th>\n",
       "    </tr>\n",
       "  </thead>\n",
       "  <tbody>\n",
       "    <tr>\n",
       "      <th>0</th>\n",
       "      <td>1</td>\n",
       "      <td>3-29-24 20:14:36</td>\n",
       "      <td>3-29-24 20:17:53</td>\n",
       "      <td>Below 20</td>\n",
       "      <td>Female</td>\n",
       "      <td>Self-employed</td>\n",
       "      <td>United States</td>\n",
       "      <td>Actually improved some aspects of my daily rou...</td>\n",
       "      <td>Very concerned</td>\n",
       "      <td>Mask;Gloves;Hand sanitizer/ Clorox;</td>\n",
       "      <td>...</td>\n",
       "      <td>$80-$120</td>\n",
       "      <td>Monthly</td>\n",
       "      <td>Increased usage</td>\n",
       "      <td>Yes, definitely</td>\n",
       "      <td>Significantly increased awareness and importance</td>\n",
       "      <td>Social media and online platforms;Recommendati...</td>\n",
       "      <td>Price;Brand reputation/trust;Availability;</td>\n",
       "      <td>No</td>\n",
       "      <td>Extremely significant</td>\n",
       "      <td>No, I will reduce my precautions</td>\n",
       "    </tr>\n",
       "    <tr>\n",
       "      <th>1</th>\n",
       "      <td>2</td>\n",
       "      <td>3-29-24 20:22:10</td>\n",
       "      <td>3-29-24 20:37:03</td>\n",
       "      <td>31-40</td>\n",
       "      <td>Female</td>\n",
       "      <td>Student</td>\n",
       "      <td>United States</td>\n",
       "      <td>Actually improved some aspects of my daily rou...</td>\n",
       "      <td>Very concerned</td>\n",
       "      <td>Mask;Gloves;Hand sanitizer/ Clorox;Disinfectan...</td>\n",
       "      <td>...</td>\n",
       "      <td>$40-$80</td>\n",
       "      <td>Less frequently (less than once a month)</td>\n",
       "      <td>Increased usage</td>\n",
       "      <td>Yes, definitely</td>\n",
       "      <td>Significantly increased awareness and importance</td>\n",
       "      <td>Recommendations from friends and family;Social...</td>\n",
       "      <td>Product effectiveness;Recommendations (Health ...</td>\n",
       "      <td>No</td>\n",
       "      <td>Extremely significant</td>\n",
       "      <td>Yes, I will continue with the same precautions</td>\n",
       "    </tr>\n",
       "    <tr>\n",
       "      <th>2</th>\n",
       "      <td>3</td>\n",
       "      <td>3-29-24 21:14:55</td>\n",
       "      <td>3-29-24 21:15:35</td>\n",
       "      <td>21-30</td>\n",
       "      <td>Male</td>\n",
       "      <td>Student</td>\n",
       "      <td>United States</td>\n",
       "      <td>No major impact on my daily routines</td>\n",
       "      <td>Somewhat concerned</td>\n",
       "      <td>Mask;</td>\n",
       "      <td>...</td>\n",
       "      <td>Above $120</td>\n",
       "      <td>Less frequently (less than once a month)</td>\n",
       "      <td>Decreased usage</td>\n",
       "      <td>Yes, to some extent</td>\n",
       "      <td>Somewhat increased awareness and importance</td>\n",
       "      <td>Recommendations from friends and family;</td>\n",
       "      <td>Ingredients/composition;</td>\n",
       "      <td>No</td>\n",
       "      <td>Neutral</td>\n",
       "      <td>No, I will reduce my precautions</td>\n",
       "    </tr>\n",
       "    <tr>\n",
       "      <th>3</th>\n",
       "      <td>4</td>\n",
       "      <td>3-29-24 21:15:25</td>\n",
       "      <td>3-29-24 21:17:44</td>\n",
       "      <td>21-30</td>\n",
       "      <td>Female</td>\n",
       "      <td>Employed</td>\n",
       "      <td>India</td>\n",
       "      <td>Actually improved some aspects of my daily rou...</td>\n",
       "      <td>Somewhat concerned</td>\n",
       "      <td>Hand sanitizer/ Clorox;Gloves;</td>\n",
       "      <td>...</td>\n",
       "      <td>Less than $40</td>\n",
       "      <td>Monthly</td>\n",
       "      <td>Increased usage</td>\n",
       "      <td>Yes, to some extent</td>\n",
       "      <td>Significantly increased awareness and importance</td>\n",
       "      <td>Television advertisements;Social media and onl...</td>\n",
       "      <td>Brand reputation/trust;</td>\n",
       "      <td>Yes</td>\n",
       "      <td>Somewhat significant</td>\n",
       "      <td>Yes, I will continue with the same precautions</td>\n",
       "    </tr>\n",
       "    <tr>\n",
       "      <th>4</th>\n",
       "      <td>5</td>\n",
       "      <td>3-29-24 21:15:12</td>\n",
       "      <td>3-29-24 21:18:47</td>\n",
       "      <td>21-30</td>\n",
       "      <td>Male</td>\n",
       "      <td>Student</td>\n",
       "      <td>United States</td>\n",
       "      <td>Significantly disrupted my daily routines</td>\n",
       "      <td>Somewhat concerned</td>\n",
       "      <td>Mask;Hand sanitizer/ Clorox;</td>\n",
       "      <td>...</td>\n",
       "      <td>$40-$80</td>\n",
       "      <td>Monthly</td>\n",
       "      <td>Increased usage</td>\n",
       "      <td>Yes, to some extent</td>\n",
       "      <td>Somewhat increased awareness and importance</td>\n",
       "      <td>In-store displays and promotions;</td>\n",
       "      <td>Product effectiveness;Ingredients/composition;...</td>\n",
       "      <td>Yes</td>\n",
       "      <td>Somewhat significant</td>\n",
       "      <td>Yes, I will continue with the same precautions</td>\n",
       "    </tr>\n",
       "    <tr>\n",
       "      <th>...</th>\n",
       "      <td>...</td>\n",
       "      <td>...</td>\n",
       "      <td>...</td>\n",
       "      <td>...</td>\n",
       "      <td>...</td>\n",
       "      <td>...</td>\n",
       "      <td>...</td>\n",
       "      <td>...</td>\n",
       "      <td>...</td>\n",
       "      <td>...</td>\n",
       "      <td>...</td>\n",
       "      <td>...</td>\n",
       "      <td>...</td>\n",
       "      <td>...</td>\n",
       "      <td>...</td>\n",
       "      <td>...</td>\n",
       "      <td>...</td>\n",
       "      <td>...</td>\n",
       "      <td>...</td>\n",
       "      <td>...</td>\n",
       "      <td>...</td>\n",
       "    </tr>\n",
       "    <tr>\n",
       "      <th>117</th>\n",
       "      <td>118</td>\n",
       "      <td>3-30-24 18:37:04</td>\n",
       "      <td>3-30-24 18:40:01</td>\n",
       "      <td>21-30</td>\n",
       "      <td>Female</td>\n",
       "      <td>Student</td>\n",
       "      <td>United States</td>\n",
       "      <td>No major impact on my daily routines</td>\n",
       "      <td>Very concerned</td>\n",
       "      <td>Mask;Hand sanitizer/ Clorox;Disinfectant spray...</td>\n",
       "      <td>...</td>\n",
       "      <td>Less than $40</td>\n",
       "      <td>Monthly</td>\n",
       "      <td>Increased usage</td>\n",
       "      <td>No, not really</td>\n",
       "      <td>Significantly increased awareness and importance</td>\n",
       "      <td>Recommendations from friends and family;Other;</td>\n",
       "      <td>Product effectiveness;Price;</td>\n",
       "      <td>Yes</td>\n",
       "      <td>Extremely significant</td>\n",
       "      <td>Yes, I will continue with the same precautions</td>\n",
       "    </tr>\n",
       "    <tr>\n",
       "      <th>118</th>\n",
       "      <td>119</td>\n",
       "      <td>3-30-24 18:40:13</td>\n",
       "      <td>3-30-24 18:41:40</td>\n",
       "      <td>31-40</td>\n",
       "      <td>Female</td>\n",
       "      <td>Student</td>\n",
       "      <td>India</td>\n",
       "      <td>Significantly disrupted my daily routines</td>\n",
       "      <td>Neutral</td>\n",
       "      <td>Gloves;Hand sanitizer/ Clorox;Mask;Disinfectan...</td>\n",
       "      <td>...</td>\n",
       "      <td>Less than $40</td>\n",
       "      <td>Monthly</td>\n",
       "      <td>Decreased usage</td>\n",
       "      <td>Yes, to some extent</td>\n",
       "      <td>Somewhat increased awareness and importance</td>\n",
       "      <td>Recommendations from friends and family;In-sto...</td>\n",
       "      <td>Price;Brand reputation/trust;Availability;Ingr...</td>\n",
       "      <td>Yes</td>\n",
       "      <td>Neutral</td>\n",
       "      <td>No, I will reduce my precautions</td>\n",
       "    </tr>\n",
       "    <tr>\n",
       "      <th>119</th>\n",
       "      <td>120</td>\n",
       "      <td>3-30-24 18:57:35</td>\n",
       "      <td>3-30-24 18:59:50</td>\n",
       "      <td>31-40</td>\n",
       "      <td>Male</td>\n",
       "      <td>Student</td>\n",
       "      <td>United States</td>\n",
       "      <td>Actually improved some aspects of my daily rou...</td>\n",
       "      <td>Very concerned</td>\n",
       "      <td>Hand sanitizer/ Clorox;Disinfectant spray;</td>\n",
       "      <td>...</td>\n",
       "      <td>Less than $40</td>\n",
       "      <td>Monthly</td>\n",
       "      <td>Increased usage</td>\n",
       "      <td>Yes, definitely</td>\n",
       "      <td>Significantly increased awareness and importance</td>\n",
       "      <td>Social media and online platforms;Other;In-sto...</td>\n",
       "      <td>Ingredients/composition;Product effectiveness;</td>\n",
       "      <td>Yes</td>\n",
       "      <td>Somewhat significant</td>\n",
       "      <td>Yes, I will continue with the same precautions</td>\n",
       "    </tr>\n",
       "    <tr>\n",
       "      <th>120</th>\n",
       "      <td>121</td>\n",
       "      <td>3-30-24 18:59:54</td>\n",
       "      <td>3-30-24 19:01:13</td>\n",
       "      <td>21-30</td>\n",
       "      <td>Male</td>\n",
       "      <td>Student</td>\n",
       "      <td>United States</td>\n",
       "      <td>No major impact on my daily routines</td>\n",
       "      <td>Somewhat concerned</td>\n",
       "      <td>Hand sanitizer/ Clorox;</td>\n",
       "      <td>...</td>\n",
       "      <td>Less than $40</td>\n",
       "      <td>Less frequently (less than once a month)</td>\n",
       "      <td>No change in usage</td>\n",
       "      <td>Yes, to some extent</td>\n",
       "      <td>Somewhat increased awareness and importance</td>\n",
       "      <td>Social media and online platforms;Television a...</td>\n",
       "      <td>Price;Brand reputation/trust;</td>\n",
       "      <td>No</td>\n",
       "      <td>Extremely significant</td>\n",
       "      <td>No, I will reduce my precautions</td>\n",
       "    </tr>\n",
       "    <tr>\n",
       "      <th>121</th>\n",
       "      <td>122</td>\n",
       "      <td>3-30-24 19:38:12</td>\n",
       "      <td>3-30-24 19:43:10</td>\n",
       "      <td>21-30</td>\n",
       "      <td>Male</td>\n",
       "      <td>Unemployed</td>\n",
       "      <td>United States</td>\n",
       "      <td>No major impact on my daily routines</td>\n",
       "      <td>Very concerned</td>\n",
       "      <td>Hand sanitizer/ Clorox;</td>\n",
       "      <td>...</td>\n",
       "      <td>$40-$80</td>\n",
       "      <td>Monthly</td>\n",
       "      <td>Increased usage</td>\n",
       "      <td>Yes, definitely</td>\n",
       "      <td>Significantly increased awareness and importance</td>\n",
       "      <td>Social media and online platforms;Television a...</td>\n",
       "      <td>Availability;Brand reputation/trust;Price;Prod...</td>\n",
       "      <td>Yes</td>\n",
       "      <td>Extremely significant</td>\n",
       "      <td>Yes, I will continue with the same precautions</td>\n",
       "    </tr>\n",
       "  </tbody>\n",
       "</table>\n",
       "<p>122 rows × 22 columns</p>\n",
       "</div>"
      ],
      "text/plain": [
       "      ID        Start_time   Completion_time Age_Range  Gender  \\\n",
       "0      1  3-29-24 20:14:36  3-29-24 20:17:53  Below 20  Female   \n",
       "1      2  3-29-24 20:22:10  3-29-24 20:37:03     31-40  Female   \n",
       "2      3  3-29-24 21:14:55  3-29-24 21:15:35     21-30    Male   \n",
       "3      4  3-29-24 21:15:25  3-29-24 21:17:44     21-30  Female   \n",
       "4      5  3-29-24 21:15:12  3-29-24 21:18:47     21-30    Male   \n",
       "..   ...               ...               ...       ...     ...   \n",
       "117  118  3-30-24 18:37:04  3-30-24 18:40:01     21-30  Female   \n",
       "118  119  3-30-24 18:40:13  3-30-24 18:41:40     31-40  Female   \n",
       "119  120  3-30-24 18:57:35  3-30-24 18:59:50     31-40    Male   \n",
       "120  121  3-30-24 18:59:54  3-30-24 19:01:13     21-30    Male   \n",
       "121  122  3-30-24 19:38:12  3-30-24 19:43:10     21-30    Male   \n",
       "\n",
       "    Employment Status         Country  \\\n",
       "0       Self-employed   United States   \n",
       "1             Student   United States   \n",
       "2             Student   United States   \n",
       "3            Employed           India   \n",
       "4             Student   United States   \n",
       "..                ...             ...   \n",
       "117           Student   United States   \n",
       "118           Student           India   \n",
       "119           Student   United States   \n",
       "120           Student  United States    \n",
       "121        Unemployed   United States   \n",
       "\n",
       "                                          Covid_Impact     Hygiene_Concern  \\\n",
       "0    Actually improved some aspects of my daily rou...      Very concerned   \n",
       "1    Actually improved some aspects of my daily rou...      Very concerned   \n",
       "2                 No major impact on my daily routines  Somewhat concerned   \n",
       "3    Actually improved some aspects of my daily rou...  Somewhat concerned   \n",
       "4            Significantly disrupted my daily routines  Somewhat concerned   \n",
       "..                                                 ...                 ...   \n",
       "117               No major impact on my daily routines      Very concerned   \n",
       "118          Significantly disrupted my daily routines             Neutral   \n",
       "119  Actually improved some aspects of my daily rou...      Very concerned   \n",
       "120               No major impact on my daily routines  Somewhat concerned   \n",
       "121               No major impact on my daily routines      Very concerned   \n",
       "\n",
       "                                       Hygiene_Product  ... PostCOVID_Spend  \\\n",
       "0                  Mask;Gloves;Hand sanitizer/ Clorox;  ...        $80-$120   \n",
       "1    Mask;Gloves;Hand sanitizer/ Clorox;Disinfectan...  ...         $40-$80   \n",
       "2                                                Mask;  ...      Above $120   \n",
       "3                       Hand sanitizer/ Clorox;Gloves;  ...   Less than $40   \n",
       "4                         Mask;Hand sanitizer/ Clorox;  ...         $40-$80   \n",
       "..                                                 ...  ...             ...   \n",
       "117  Mask;Hand sanitizer/ Clorox;Disinfectant spray...  ...   Less than $40   \n",
       "118  Gloves;Hand sanitizer/ Clorox;Mask;Disinfectan...  ...   Less than $40   \n",
       "119         Hand sanitizer/ Clorox;Disinfectant spray;  ...   Less than $40   \n",
       "120                            Hand sanitizer/ Clorox;  ...   Less than $40   \n",
       "121                            Hand sanitizer/ Clorox;  ...         $40-$80   \n",
       "\n",
       "                           Purchase_Frequency        Usage_Change  \\\n",
       "0                                     Monthly     Increased usage   \n",
       "1    Less frequently (less than once a month)     Increased usage   \n",
       "2    Less frequently (less than once a month)     Decreased usage   \n",
       "3                                     Monthly     Increased usage   \n",
       "4                                     Monthly     Increased usage   \n",
       "..                                        ...                 ...   \n",
       "117                                   Monthly     Increased usage   \n",
       "118                                   Monthly     Decreased usage   \n",
       "119                                   Monthly     Increased usage   \n",
       "120  Less frequently (less than once a month)  No change in usage   \n",
       "121                                   Monthly     Increased usage   \n",
       "\n",
       "      Products_Essential                                   Awareness_Impact  \\\n",
       "0        Yes, definitely   Significantly increased awareness and importance   \n",
       "1        Yes, definitely   Significantly increased awareness and importance   \n",
       "2    Yes, to some extent        Somewhat increased awareness and importance   \n",
       "3    Yes, to some extent   Significantly increased awareness and importance   \n",
       "4    Yes, to some extent        Somewhat increased awareness and importance   \n",
       "..                   ...                                                ...   \n",
       "117       No, not really   Significantly increased awareness and importance   \n",
       "118  Yes, to some extent        Somewhat increased awareness and importance   \n",
       "119      Yes, definitely   Significantly increased awareness and importance   \n",
       "120  Yes, to some extent        Somewhat increased awareness and importance   \n",
       "121      Yes, definitely   Significantly increased awareness and importance   \n",
       "\n",
       "                                           Info_Source  \\\n",
       "0    Social media and online platforms;Recommendati...   \n",
       "1    Recommendations from friends and family;Social...   \n",
       "2             Recommendations from friends and family;   \n",
       "3    Television advertisements;Social media and onl...   \n",
       "4                    In-store displays and promotions;   \n",
       "..                                                 ...   \n",
       "117     Recommendations from friends and family;Other;   \n",
       "118  Recommendations from friends and family;In-sto...   \n",
       "119  Social media and online platforms;Other;In-sto...   \n",
       "120  Social media and online platforms;Television a...   \n",
       "121  Social media and online platforms;Television a...   \n",
       "\n",
       "                                      Purchase_Factors Brand_Switch  \\\n",
       "0           Price;Brand reputation/trust;Availability;           No   \n",
       "1    Product effectiveness;Recommendations (Health ...           No   \n",
       "2                             Ingredients/composition;           No   \n",
       "3                              Brand reputation/trust;          Yes   \n",
       "4    Product effectiveness;Ingredients/composition;...          Yes   \n",
       "..                                                 ...          ...   \n",
       "117                       Product effectiveness;Price;          Yes   \n",
       "118  Price;Brand reputation/trust;Availability;Ingr...          Yes   \n",
       "119     Ingredients/composition;Product effectiveness;          Yes   \n",
       "120                      Price;Brand reputation/trust;           No   \n",
       "121  Availability;Brand reputation/trust;Price;Prod...          Yes   \n",
       "\n",
       "             Health_Belief                          Precautions_Continuity  \n",
       "0    Extremely significant                No, I will reduce my precautions  \n",
       "1    Extremely significant  Yes, I will continue with the same precautions  \n",
       "2                  Neutral                No, I will reduce my precautions  \n",
       "3     Somewhat significant  Yes, I will continue with the same precautions  \n",
       "4     Somewhat significant  Yes, I will continue with the same precautions  \n",
       "..                     ...                                             ...  \n",
       "117  Extremely significant  Yes, I will continue with the same precautions  \n",
       "118                Neutral                No, I will reduce my precautions  \n",
       "119   Somewhat significant  Yes, I will continue with the same precautions  \n",
       "120  Extremely significant                No, I will reduce my precautions  \n",
       "121  Extremely significant  Yes, I will continue with the same precautions  \n",
       "\n",
       "[122 rows x 22 columns]"
      ]
     },
     "execution_count": 88,
     "metadata": {},
     "output_type": "execute_result"
    }
   ],
   "source": [
    "#Loading Dataset\n",
    "\n",
    "df = pd.read_csv(\"hygeine1.csv\")\n",
    "df"
   ]
  },
  {
   "cell_type": "code",
   "execution_count": 89,
   "id": "ce198acf",
   "metadata": {},
   "outputs": [
    {
     "data": {
      "text/html": [
       "<div>\n",
       "<style scoped>\n",
       "    .dataframe tbody tr th:only-of-type {\n",
       "        vertical-align: middle;\n",
       "    }\n",
       "\n",
       "    .dataframe tbody tr th {\n",
       "        vertical-align: top;\n",
       "    }\n",
       "\n",
       "    .dataframe thead th {\n",
       "        text-align: right;\n",
       "    }\n",
       "</style>\n",
       "<table border=\"1\" class=\"dataframe\">\n",
       "  <thead>\n",
       "    <tr style=\"text-align: right;\">\n",
       "      <th></th>\n",
       "      <th>ID</th>\n",
       "    </tr>\n",
       "  </thead>\n",
       "  <tbody>\n",
       "    <tr>\n",
       "      <th>count</th>\n",
       "      <td>122.000000</td>\n",
       "    </tr>\n",
       "    <tr>\n",
       "      <th>mean</th>\n",
       "      <td>61.500000</td>\n",
       "    </tr>\n",
       "    <tr>\n",
       "      <th>std</th>\n",
       "      <td>35.362409</td>\n",
       "    </tr>\n",
       "    <tr>\n",
       "      <th>min</th>\n",
       "      <td>1.000000</td>\n",
       "    </tr>\n",
       "    <tr>\n",
       "      <th>25%</th>\n",
       "      <td>31.250000</td>\n",
       "    </tr>\n",
       "    <tr>\n",
       "      <th>50%</th>\n",
       "      <td>61.500000</td>\n",
       "    </tr>\n",
       "    <tr>\n",
       "      <th>75%</th>\n",
       "      <td>91.750000</td>\n",
       "    </tr>\n",
       "    <tr>\n",
       "      <th>max</th>\n",
       "      <td>122.000000</td>\n",
       "    </tr>\n",
       "  </tbody>\n",
       "</table>\n",
       "</div>"
      ],
      "text/plain": [
       "               ID\n",
       "count  122.000000\n",
       "mean    61.500000\n",
       "std     35.362409\n",
       "min      1.000000\n",
       "25%     31.250000\n",
       "50%     61.500000\n",
       "75%     91.750000\n",
       "max    122.000000"
      ]
     },
     "execution_count": 89,
     "metadata": {},
     "output_type": "execute_result"
    }
   ],
   "source": [
    "df.describe()"
   ]
  },
  {
   "cell_type": "code",
   "execution_count": 90,
   "id": "0d0083b2",
   "metadata": {},
   "outputs": [
    {
     "name": "stdout",
     "output_type": "stream",
     "text": [
      "<class 'pandas.core.frame.DataFrame'>\n",
      "RangeIndex: 122 entries, 0 to 121\n",
      "Data columns (total 22 columns):\n",
      " #   Column                  Non-Null Count  Dtype \n",
      "---  ------                  --------------  ----- \n",
      " 0   ID                      122 non-null    int64 \n",
      " 1   Start_time              122 non-null    object\n",
      " 2   Completion_time         122 non-null    object\n",
      " 3   Age_Range               122 non-null    object\n",
      " 4   Gender                  122 non-null    object\n",
      " 5   Employment Status       122 non-null    object\n",
      " 6   Country                 122 non-null    object\n",
      " 7   Covid_Impact            122 non-null    object\n",
      " 8   Hygiene_Concern         122 non-null    object\n",
      " 9   Hygiene_Product         122 non-null    object\n",
      " 10  Usage_Frequency         122 non-null    object\n",
      " 11  PreCOVID_Spend          122 non-null    object\n",
      " 12  PostCOVID_Spend         122 non-null    object\n",
      " 13  Purchase_Frequency      122 non-null    object\n",
      " 14  Usage_Change            122 non-null    object\n",
      " 15  Products_Essential      122 non-null    object\n",
      " 16  Awareness_Impact        122 non-null    object\n",
      " 17  Info_Source             122 non-null    object\n",
      " 18  Purchase_Factors        122 non-null    object\n",
      " 19  Brand_Switch            122 non-null    object\n",
      " 20  Health_Belief           122 non-null    object\n",
      " 21  Precautions_Continuity  122 non-null    object\n",
      "dtypes: int64(1), object(21)\n",
      "memory usage: 21.1+ KB\n"
     ]
    }
   ],
   "source": [
    "df.info()  # Data types and missing values\n"
   ]
  },
  {
   "cell_type": "code",
   "execution_count": 91,
   "id": "190659d2",
   "metadata": {},
   "outputs": [
    {
     "data": {
      "text/plain": [
       "Age_Range\n",
       "21-30       71\n",
       "31-40       29\n",
       "41-50        8\n",
       "61 above     7\n",
       "Below 20     4\n",
       "51-60        3\n",
       "Name: count, dtype: int64"
      ]
     },
     "execution_count": 91,
     "metadata": {},
     "output_type": "execute_result"
    }
   ],
   "source": [
    "df['Age_Range'].value_counts()"
   ]
  },
  {
   "cell_type": "code",
   "execution_count": 92,
   "id": "d3e52579",
   "metadata": {},
   "outputs": [
    {
     "data": {
      "text/plain": [
       "PreCOVID_Spend\n",
       "Less than $40    102\n",
       "$40 - $80         17\n",
       " $80 - $120        3\n",
       "Name: count, dtype: int64"
      ]
     },
     "execution_count": 92,
     "metadata": {},
     "output_type": "execute_result"
    }
   ],
   "source": [
    "df['PreCOVID_Spend'].value_counts()\n"
   ]
  },
  {
   "cell_type": "code",
   "execution_count": 93,
   "id": "0daaa708",
   "metadata": {},
   "outputs": [
    {
     "data": {
      "text/plain": [
       "PostCOVID_Spend\n",
       "Less than $40    69\n",
       "$40-$80          40\n",
       "$80-$120         10\n",
       "Above $120        3\n",
       "Name: count, dtype: int64"
      ]
     },
     "execution_count": 93,
     "metadata": {},
     "output_type": "execute_result"
    }
   ],
   "source": [
    "df['PostCOVID_Spend'].value_counts()"
   ]
  },
  {
   "cell_type": "code",
   "execution_count": 94,
   "id": "90510f7a",
   "metadata": {},
   "outputs": [
    {
     "data": {
      "text/plain": [
       "Awareness_Impact\n",
       " Significantly increased awareness and importance    84\n",
       "Somewhat increased awareness and importance          34\n",
       "No significant change                                 4\n",
       "Name: count, dtype: int64"
      ]
     },
     "execution_count": 94,
     "metadata": {},
     "output_type": "execute_result"
    }
   ],
   "source": [
    "df['Awareness_Impact'].value_counts()"
   ]
  },
  {
   "cell_type": "code",
   "execution_count": 95,
   "id": "e9d9e44d",
   "metadata": {},
   "outputs": [
    {
     "data": {
      "text/plain": [
       "Usage_Change\n",
       "Increased usage       96\n",
       "Decreased usage       13\n",
       "No change in usage    13\n",
       "Name: count, dtype: int64"
      ]
     },
     "execution_count": 95,
     "metadata": {},
     "output_type": "execute_result"
    }
   ],
   "source": [
    "df['Usage_Change'].value_counts()"
   ]
  },
  {
   "cell_type": "code",
   "execution_count": 96,
   "id": "9a42235f",
   "metadata": {},
   "outputs": [
    {
     "data": {
      "text/plain": [
       "<Axes: xlabel='Age_Range'>"
      ]
     },
     "execution_count": 96,
     "metadata": {},
     "output_type": "execute_result"
    },
    {
     "data": {
      "image/png": "[encoded data removed]",
      "text/plain": [
       "<Figure size 640x480 with 1 Axes>"
      ]
     },
     "metadata": {},
     "output_type": "display_data"
    }
   ],
   "source": [
    "df['Age_Range'].value_counts().plot(kind='bar')"
   ]
  },
  {
   "cell_type": "code",
   "execution_count": 97,
   "id": "b56bfdda",
   "metadata": {},
   "outputs": [
    {
     "data": {
      "text/plain": [
       "<Axes: xlabel='PreCOVID_Spend'>"
      ]
     },
     "execution_count": 97,
     "metadata": {},
     "output_type": "execute_result"
    },
    {
     "data": {
      "image/png": "[encoded data removed]",
      "text/plain": [
       "<Figure size 640x480 with 1 Axes>"
      ]
     },
     "metadata": {},
     "output_type": "display_data"
    }
   ],
   "source": [
    "df['PreCOVID_Spend'].value_counts().plot(kind='bar')"
   ]
  },
  {
   "cell_type": "code",
   "execution_count": 98,
   "id": "17991d6d",
   "metadata": {},
   "outputs": [
    {
     "data": {
      "text/plain": [
       "<Axes: xlabel='PostCOVID_Spend'>"
      ]
     },
     "execution_count": 98,
     "metadata": {},
     "output_type": "execute_result"
    },
    {
     "data": {
      "image/png": "[encoded data removed]",
      "text/plain": [
       "<Figure size 640x480 with 1 Axes>"
      ]
     },
     "metadata": {},
     "output_type": "display_data"
    }
   ],
   "source": [
    "df['PostCOVID_Spend'].value_counts().plot(kind='bar')"
   ]
  },
  {
   "cell_type": "code",
   "execution_count": 99,
   "id": "1748c794",
   "metadata": {},
   "outputs": [
    {
     "data": {
      "text/plain": [
       "<Axes: xlabel='Usage_Change'>"
      ]
     },
     "execution_count": 99,
     "metadata": {},
     "output_type": "execute_result"
    },
    {
     "data": {
      "image/png": "[encoded data removed]",
      "text/plain": [
       "<Figure size 640x480 with 1 Axes>"
      ]
     },
     "metadata": {},
     "output_type": "display_data"
    }
   ],
   "source": [
    "df['Usage_Change'].value_counts().plot(kind='bar')"
   ]
  },
  {
   "cell_type": "code",
   "execution_count": 100,
   "id": "20f39a65",
   "metadata": {},
   "outputs": [
    {
     "data": {
      "text/plain": [
       "<Axes: xlabel='PostCOVID_Spend'>"
      ]
     },
     "execution_count": 100,
     "metadata": {},
     "output_type": "execute_result"
    },
    {
     "data": {
      "image/png": "[encoded data removed]",
      "text/plain": [
       "<Figure size 640x480 with 1 Axes>"
      ]
     },
     "metadata": {},
     "output_type": "display_data"
    }
   ],
   "source": [
    "df['PostCOVID_Spend'].value_counts().plot(kind='bar')\n"
   ]
  },
  {
   "cell_type": "code",
   "execution_count": 101,
   "id": "711fd9dd",
   "metadata": {},
   "outputs": [],
   "source": [
    "df_dropped = df.drop(['Start_time', 'Completion_time'], axis=1, errors='ignore')"
   ]
  },
  {
   "cell_type": "code",
   "execution_count": 102,
   "id": "44e640ef",
   "metadata": {},
   "outputs": [
    {
     "data": {
      "image/png": "[encoded data removed]",
      "text/plain": [
       "<Figure size 640x480 with 1 Axes>"
      ]
     },
     "metadata": {},
     "output_type": "display_data"
    }
   ],
   "source": [
    "import matplotlib.pyplot as plt\n",
    "import seaborn as sns\n",
    "\n",
    "# Histogram for numerical data\n",
    "df['Hygiene_Concern'].hist()\n",
    "plt.title('Distribution of Hygiene Concern')\n",
    "plt.xlabel('Hygiene Concern')\n",
    "plt.ylabel('Frequency')\n",
    "plt.show()"
   ]
  },
  {
   "cell_type": "code",
   "execution_count": 103,
   "id": "7a6aa668",
   "metadata": {},
   "outputs": [
    {
     "data": {
      "text/plain": [
       "0      3\n",
       "1      3\n",
       "2      2\n",
       "3      2\n",
       "4      2\n",
       "      ..\n",
       "117    3\n",
       "118    1\n",
       "119    3\n",
       "120    2\n",
       "121    3\n",
       "Name: Hygiene_Concern_Scale, Length: 122, dtype: int64"
      ]
     },
     "execution_count": 103,
     "metadata": {},
     "output_type": "execute_result"
    }
   ],
   "source": [
    "#Mapping from text to numerical scale\n",
    "concern_mapping = {\n",
    "    'Neutral': 1,\n",
    "    'Somewhat concerned': 2,\n",
    "    ' Very concerned': 3\n",
    "}\n",
    "\n",
    "# Apply the mapping to convert text responses to numerical scale\n",
    "df['Hygiene_Concern_Scale'] = df['Hygiene_Concern'].map(concern_mapping)\n",
    "\n",
    "#print(df)\n",
    "value_counts = df['Hygiene_Concern_Scale'].value_counts()\n",
    "value_counts\n",
    "df['Hygiene_Concern_Scale']"
   ]
  },
  {
   "cell_type": "code",
   "execution_count": 104,
   "id": "813ee0eb",
   "metadata": {},
   "outputs": [
    {
     "data": {
      "image/png": "[encoded data removed]",
      "text/plain": [
       "<Figure size 640x480 with 1 Axes>"
      ]
     },
     "metadata": {},
     "output_type": "display_data"
    }
   ],
   "source": [
    "# Scatter plot for numerical variables\n",
    "plt.scatter(df['Hygiene_Concern'], df['PostCOVID_Spend'])\n",
    "plt.title('Hygiene Concern vs. Monthly Spending Post-COVID')\n",
    "plt.xlabel('Hygiene Concern')\n",
    "plt.ylabel('Monthly Spending Post-COVID ($)')\n",
    "plt.show()\n",
    "\n"
   ]
  },
  {
   "cell_type": "code",
   "execution_count": 105,
   "id": "7f491139",
   "metadata": {},
   "outputs": [
    {
     "name": "stdout",
     "output_type": "stream",
     "text": [
      "                                 Multivariate linear model\n",
      "===========================================================================================\n",
      "                                                                                           \n",
      "-------------------------------------------------------------------------------------------\n",
      "       Intercept                Value         Num DF  Den DF         F Value         Pr > F\n",
      "-------------------------------------------------------------------------------------------\n",
      "          Wilks' lambda                0.0000 9.0000 108.0000 18014398509481970.0000 0.0000\n",
      "         Pillai's trace                1.0000 9.0000 108.0000 18014398509481974.0000 0.0000\n",
      " Hotelling-Lawley trace 1501199875790164.2500 9.0000 108.0000 18014398509481972.0000 0.0000\n",
      "    Roy's greatest root 1501199875790164.2500 9.0000 108.0000 18014398509481972.0000 0.0000\n",
      "-------------------------------------------------------------------------------------------\n",
      "                                                                                           \n",
      "------------------------------------------------------------------------------------------------\n",
      "                Age_Range             Value        Num DF       Den DF       F Value      Pr > F\n",
      "------------------------------------------------------------------------------------------------\n",
      "                   Wilks' lambda      0.5937      40.0000      477.9145       1.5181      0.0247\n",
      "                  Pillai's trace      0.4769      40.0000      565.0000       1.4893      0.0295\n",
      "          Hotelling-Lawley trace      0.5726      40.0000      313.2727       1.5416      0.0236\n",
      "             Roy's greatest root      0.2734       8.0000      113.0000       3.8617      0.0005\n",
      "===========================================================================================\n",
      "\n"
     ]
    }
   ],
   "source": [
    "import pandas as pd\n",
    "import statsmodels.api as sm\n",
    "from statsmodels.multivariate.manova import MANOVA\n",
    "\n",
    "# Assuming 'df' is your DataFrame and it contains the necessary variables\n",
    "# Let's say 'dv1', 'dv2' are your dependent variables and 'group' is your independent variable\n",
    "\n",
    "# Prepare the data\n",
    "dv_columns = ['Usage_Frequency', 'PostCOVID_Spend', 'Precautions_Continuity']\n",
    "iv_column = 'Age_Range'\n",
    "\n",
    "# Run MANOVA\n",
    "maov = MANOVA.from_formula(' + '.join(dv_columns) + ' ~ ' + iv_column, data=df)\n",
    "print(maov.mv_test())"
   ]
  },
  {
   "cell_type": "code",
   "execution_count": 106,
   "id": "d0db50ea",
   "metadata": {},
   "outputs": [
    {
     "name": "stdout",
     "output_type": "stream",
     "text": [
      "                                Multivariate linear model\n",
      "=========================================================================================\n",
      "                                                                                         \n",
      "-----------------------------------------------------------------------------------------\n",
      "       Intercept               Value         Num DF  Den DF         F Value        Pr > F\n",
      "-----------------------------------------------------------------------------------------\n",
      "          Wilks' lambda               0.0000 9.0000 112.0000 4003199668773762.0000 0.0000\n",
      "         Pillai's trace               1.0000 9.0000 112.0000 4003199668773761.5000 0.0000\n",
      " Hotelling-Lawley trace 321685687669320.1250 9.0000 112.0000 4003199668773761.5000 0.0000\n",
      "    Roy's greatest root 321685687669320.1250 9.0000 112.0000 4003199668773761.5000 0.0000\n",
      "-----------------------------------------------------------------------------------------\n",
      "                                                                                         \n",
      "----------------------------------------------------------------------------------------------\n",
      "                 Gender              Value       Num DF       Den DF       F Value      Pr > F\n",
      "----------------------------------------------------------------------------------------------\n",
      "                  Wilks' lambda      0.9115      8.0000      113.0000       1.3720      0.2163\n",
      "                 Pillai's trace      0.0885      8.0000      113.0000       1.3722      0.2162\n",
      "         Hotelling-Lawley trace      0.0971      8.0000      113.0000       1.3719      0.2164\n",
      "            Roy's greatest root      0.0970      8.0000      113.0000       1.3704      0.2171\n",
      "=========================================================================================\n",
      "\n"
     ]
    }
   ],
   "source": [
    "import pandas as pd\n",
    "import statsmodels.api as sm\n",
    "from statsmodels.multivariate.manova import MANOVA\n",
    "\n",
    "# Assuming 'df' is your DataFrame and it contains the necessary variables\n",
    "# Let's say 'dv1', 'dv2' are your dependent variables and 'group' is your independent variable\n",
    "\n",
    "# Prepare the data\n",
    "dv_columns = ['Usage_Frequency', 'PostCOVID_Spend', 'Precautions_Continuity']\n",
    "iv_column = 'Gender'\n",
    "\n",
    "# Run MANOVA\n",
    "maov = MANOVA.from_formula(' + '.join(dv_columns) + ' ~ ' + iv_column, data=df)\n",
    "print(maov.mv_test())"
   ]
  },
  {
   "cell_type": "code",
   "execution_count": 110,
   "id": "bc352b67",
   "metadata": {},
   "outputs": [
    {
     "name": "stdout",
     "output_type": "stream",
     "text": [
      "                                  Multivariate linear model\n",
      "=============================================================================================\n",
      "                                                                                             \n",
      "---------------------------------------------------------------------------------------------\n",
      "       Intercept                Value          Num DF  Den DF          F Value         Pr > F\n",
      "---------------------------------------------------------------------------------------------\n",
      "          Wilks' lambda                -0.0000 9.0000 108.0000 -18014398509481996.0000 1.0000\n",
      "         Pillai's trace                 1.0000 9.0000 108.0000 -18014398509481996.0000 1.0000\n",
      " Hotelling-Lawley trace -1501199875790166.2500 9.0000 108.0000 -18014398509481996.0000 1.0000\n",
      "    Roy's greatest root -1501199875790166.2500 9.0000 108.0000 -18014398509481996.0000 1.0000\n",
      "---------------------------------------------------------------------------------------------\n",
      "                                                                                             \n",
      "---------------------------------------------------------------------------------------------------\n",
      "          Employment_Status          Value         Num DF        Den DF        F Value       Pr > F\n",
      "---------------------------------------------------------------------------------------------------\n",
      "                 Wilks' lambda       0.6108       40.0000       477.9145        1.4306       0.0464\n",
      "                Pillai's trace       0.4564       40.0000       565.0000        1.4188       0.0490\n",
      "        Hotelling-Lawley trace       0.5342       40.0000       313.2727        1.4383       0.0483\n",
      "           Roy's greatest root       0.2336        8.0000       113.0000        3.2989       0.0020\n",
      "=============================================================================================\n",
      "\n"
     ]
    }
   ],
   "source": [
    "import pandas as pd\n",
    "import statsmodels.api as sm\n",
    "from statsmodels.multivariate.manova import MANOVA\n",
    "\n",
    "# Assuming 'df' is your DataFrame and it contains the necessary variables\n",
    "# Let's say 'dv1', 'dv2' are your dependent variables and 'group' is your independent variable\n",
    "\n",
    "# Prepare the data\n",
    "df.rename(columns={'Employment Status': 'Employment_Status'}, inplace=True)\n",
    "iv_column = 'Employment_Status'\n",
    "\n",
    "# Run MANOVA\n",
    "maov = MANOVA.from_formula(' + '.join(dv_columns) + ' ~ ' + iv_column, data=df)\n",
    "print(maov.mv_test())"
   ]
  },
  {
   "cell_type": "code",
   "execution_count": 111,
   "id": "cba2dcbd",
   "metadata": {},
   "outputs": [
    {
     "name": "stdout",
     "output_type": "stream",
     "text": [
      "                               Multivariate linear model\n",
      "========================================================================================\n",
      "                                                                                        \n",
      "----------------------------------------------------------------------------------------\n",
      "       Intercept               Value         Num DF  Den DF        F Value        Pr > F\n",
      "----------------------------------------------------------------------------------------\n",
      "          Wilks' lambda               0.0000 9.0000 93.0000 1163429903737367.7500 0.0000\n",
      "         Pillai's trace               1.0000 9.0000 93.0000 1163429903737367.7500 0.0000\n",
      " Hotelling-Lawley trace 112589990684261.4062 9.0000 93.0000 1163429903737368.0000 0.0000\n",
      "    Roy's greatest root 112589990684261.4062 9.0000 93.0000 1163429903737368.0000 0.0000\n",
      "----------------------------------------------------------------------------------------\n",
      "                                                                                        \n",
      "---------------------------------------------------------------------------------------------\n",
      "             Age_Range             Value        Num DF       Den DF       F Value      Pr > F\n",
      "---------------------------------------------------------------------------------------------\n",
      "                Wilks' lambda      0.5879      40.0000      412.5310       1.3367      0.0883\n",
      "               Pillai's trace      0.4915      40.0000      490.0000       1.3353      0.0871\n",
      "       Hotelling-Lawley trace      0.5760      40.0000      268.3158       1.3347      0.0961\n",
      "          Roy's greatest root      0.2317       8.0000       98.0000       2.8384      0.0071\n",
      "----------------------------------------------------------------------------------------\n",
      "                                                                                        \n",
      "---------------------------------------------------------------------------------------------\n",
      "                 Gender              Value       Num DF       Den DF      F Value      Pr > F\n",
      "---------------------------------------------------------------------------------------------\n",
      "                  Wilks' lambda      0.9460      8.0000      94.0000       0.6705      0.7162\n",
      "                 Pillai's trace      0.0540      8.0000      94.0000       0.6706      0.7161\n",
      "         Hotelling-Lawley trace      0.0570      8.0000      94.0000       0.6703      0.7164\n",
      "            Roy's greatest root      0.0568      8.0000      94.0000       0.6676      0.7187\n",
      "----------------------------------------------------------------------------------------\n",
      "                                                                                        \n",
      "---------------------------------------------------------------------------------------------\n",
      "              Country              Value        Num DF       Den DF       F Value      Pr > F\n",
      "---------------------------------------------------------------------------------------------\n",
      "                Wilks' lambda      0.4854      72.0000      579.3590       1.0152      0.4478\n",
      "               Pillai's trace      0.6650      72.0000      808.0000       1.0174      0.4413\n",
      "       Hotelling-Lawley trace      0.7890      72.0000      362.0231       1.0138      0.4540\n",
      "          Roy's greatest root      0.2750       9.0000      101.0000       3.0861      0.0026\n",
      "----------------------------------------------------------------------------------------\n",
      "                                                                                        \n",
      "---------------------------------------------------------------------------------------------\n",
      "         Employment_Status         Value        Num DF       Den DF       F Value      Pr > F\n",
      "---------------------------------------------------------------------------------------------\n",
      "                Wilks' lambda      0.5731      40.0000      412.5310       1.4049      0.0568\n",
      "               Pillai's trace      0.5094      40.0000      490.0000       1.3895      0.0611\n",
      "       Hotelling-Lawley trace      0.6112      40.0000      268.3158       1.4163      0.0581\n",
      "          Roy's greatest root      0.2906       8.0000       98.0000       3.5600      0.0012\n",
      "========================================================================================\n",
      "\n"
     ]
    }
   ],
   "source": [
    "import pandas as pd\n",
    "import statsmodels.api as sm\n",
    "from statsmodels.multivariate.manova import MANOVA\n",
    "\n",
    "# Assuming 'df' is your DataFrame and it contains the necessary variables\n",
    "# Let's say 'dv1', 'dv2' are your dependent variables and 'group' is your independent variable\n",
    "\n",
    "# Prepare the data\n",
    "dv_columns = ['Usage_Frequency', 'PostCOVID_Spend', 'Precautions_Continuity']\n",
    "iv_column = ['Age_Range', 'Gender', 'Country', 'Employment_Status']\n",
    "\n",
    "# Run MANOVA\n",
    "maov = MANOVA.from_formula(' + '.join(dv_columns) + ' ~ ' + ' + '.join(iv_column), data=df)\n",
    "print(maov.mv_test())"
   ]
  },
  {
   "cell_type": "code",
   "execution_count": null,
   "id": "3f2c8640",
   "metadata": {},
   "outputs": [],
   "source": []
  }
 ],
 "metadata": {
  "kernelspec": {
   "display_name": "Python 3 (ipykernel)",
   "language": "python",
   "name": "python3"
  },
  "language_info": {
   "codemirror_mode": {
    "name": "ipython",
    "version": 3
   },
   "file_extension": ".py",
   "mimetype": "text/x-python",
   "name": "python",
   "nbconvert_exporter": "python",
   "pygments_lexer": "ipython3",
   "version": "3.11.7"
  }
 },
 "nbformat": 4,
 "nbformat_minor": 5
}
