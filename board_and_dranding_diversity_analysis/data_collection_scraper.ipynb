{
 "cells": [
  {
   "cell_type": "code",
   "execution_count": 27,
   "id": "b444d7dd",
   "metadata": {},
   "outputs": [],
   "source": [
    "# data_collection_scraper\n",
    "import requests\n",
    "from bs4 import BeautifulSoup\n",
    "import time\n",
    "import random\n",
    "from selenium import webdriver\n",
    "from selenium.webdriver.chrome.service import Service\n",
    "from webdriver_manager.chrome import ChromeDriverManager\n",
    "from selenium.webdriver.support.ui import WebDriverWait\n",
    "from selenium.webdriver.common.by import By\n",
    "from selenium.webdriver.support import expected_conditions as EC\n",
    "from bs4 import BeautifulSoup\n",
    "import pandas as pd\n",
    "import urllib\n",
    "import pdfkit\n",
    "import os"
   ]
  },
  {
   "cell_type": "code",
   "execution_count": 29,
   "id": "f47354cb",
   "metadata": {},
   "outputs": [],
   "source": [
    "# Anti-blocking: List of User-Agents to rotate\n",
    "USER_AGENTS = [\n",
    "    \"Mozilla/5.0 (Windows NT 10.0; Win64; x64) AppleWebKit/537.36 (KHTML, like Gecko) Chrome/85.0.4183.121 Safari/537.36\",\n",
    "    \"Mozilla/5.0 (Macintosh; Intel Mac OS X 10.15; rv:79.0) Gecko/20100101 Firefox/79.0\",\n",
    "    \"Mozilla/5.0 (X11; Linux x86_64) AppleWebKit/537.36 (KHTML, like Gecko) Chrome/85.0.4183.121 Safari/537.36\"\n",
    "]\n"
   ]
  },
  {
   "cell_type": "code",
   "execution_count": 31,
   "id": "f73c2473",
   "metadata": {},
   "outputs": [],
   "source": [
    "# Set up WebDriver options\n",
    "options = webdriver.ChromeOptions()\n",
    "options.add_argument('--headless')\n",
    "options.add_argument('--no-sandbox')\n",
    "options.add_argument('--disable-dev-shm-usage')\n",
    "options.add_argument(\"--disable-extensions\")\n",
    "options.add_argument(\"--disable-popup-blocking\")\n",
    "options.add_argument(\"--disable-infobars\")\n",
    "options.add_argument(f\"user-agent={random.choice(USER_AGENTS)}\")"
   ]
  },
  {
   "cell_type": "code",
   "execution_count": 33,
   "id": "16c760d1",
   "metadata": {},
   "outputs": [],
   "source": [
    "# Initialize WebDriver\n",
    "driver = webdriver.Chrome(service=Service(ChromeDriverManager().install()), options=options)"
   ]
  },
  {
   "cell_type": "code",
   "execution_count": 35,
   "id": "0818b9ec",
   "metadata": {},
   "outputs": [],
   "source": [
    "if(not os.path.isfile('results3.csv')):\n",
    "    df = pd.DataFrame(pd.DataFrame(columns=['Ticker', 'Entity Name', 'Form Name', 'File Date''URL']))\n",
    "    df.to_csv('results3.csv', mode='a', index=False)"
   ]
  },
  {
   "cell_type": "code",
   "execution_count": 37,
   "id": "b6b55810",
   "metadata": {},
   "outputs": [],
   "source": [
    "# Initate output data fram\n",
    "output = pd.DataFrame()\n",
    "\n",
    "# load firm list containing tickers \n",
    "firmList = pd.read_csv(\"firmList_full.csv\")"
   ]
  },
  {
   "cell_type": "code",
   "execution_count": 47,
   "id": "a87f22d5",
   "metadata": {},
   "outputs": [],
   "source": [
    "firm_name = firmList['firm'][0].replace('THE', '').replace('LIMITED', '').replace(' ', '%2520').replace('&', '%2526')\n",
    "ticker = firmList['ticker'][0]"
   ]
  },
  {
   "cell_type": "code",
   "execution_count": 49,
   "id": "fa2bc3b3",
   "metadata": {},
   "outputs": [
    {
     "name": "stdout",
     "output_type": "stream",
     "text": [
      "General%2520Motors%2520Co\n"
     ]
    }
   ],
   "source": [
    "print(firm_name)"
   ]
  },
  {
   "cell_type": "code",
   "execution_count": 51,
   "id": "734025c6",
   "metadata": {},
   "outputs": [
    {
     "name": "stdout",
     "output_type": "stream",
     "text": [
      "GM\n"
     ]
    }
   ],
   "source": [
    "print(ticker)"
   ]
  },
  {
   "cell_type": "code",
   "execution_count": 53,
   "id": "f2b273f8-d9d0-40d7-aaea-038fda2bd07c",
   "metadata": {},
   "outputs": [
    {
     "name": "stdout",
     "output_type": "stream",
     "text": [
      "Formatted Firm Name for URL: General%20Motors%20Co\n",
      "Ticker: GM\n"
     ]
    }
   ],
   "source": [
    "# Example processing of a single firm\n",
    "firm_name_raw = firmList['firm'][0]\n",
    "firm_name = urllib.parse.quote(firm_name_raw.replace('THE', '').replace('LIMITED', ''))\n",
    "ticker = firmList['ticker'][0]\n",
    "\n",
    "print(\"Formatted Firm Name for URL:\", firm_name)  # URL encoded firm name\n",
    "print(\"Ticker:\", ticker)"
   ]
  },
  {
   "cell_type": "code",
   "execution_count": 55,
   "id": "d3d3c683",
   "metadata": {},
   "outputs": [],
   "source": [
    "url = 'https://www.sec.gov/edgar/search/#/q=5.02'+'&dateRange=custom&'+ 'entityName='+ ticker +'&startdt=2015-01-01&enddt=2023-02-24&filter_forms=8-K'"
   ]
  },
  {
   "cell_type": "code",
   "execution_count": 57,
   "id": "f1d5a0a4",
   "metadata": {},
   "outputs": [
    {
     "name": "stdout",
     "output_type": "stream",
     "text": [
      "https://www.sec.gov/edgar/search/#/q=5.02&dateRange=custom&entityName=GM&startdt=2015-01-01&enddt=2023-02-24&filter_forms=8-K\n"
     ]
    }
   ],
   "source": [
    "print(url)"
   ]
  },
  {
   "cell_type": "code",
   "execution_count": 59,
   "id": "0e2333d3",
   "metadata": {},
   "outputs": [],
   "source": [
    "driver.get(url)"
   ]
  },
  {
   "cell_type": "code",
   "execution_count": 61,
   "id": "74e7658f",
   "metadata": {
    "scrolled": true
   },
   "outputs": [],
   "source": [
    "html = driver.page_source\n",
    "soup = BeautifulSoup(html, 'lxml')\n",
    "# print(soup)"
   ]
  },
  {
   "cell_type": "code",
   "execution_count": 63,
   "id": "fa05ddc1",
   "metadata": {},
   "outputs": [],
   "source": [
    "part= soup.find('td', class_='cik d-none').text.replace('CIK ', '').lstrip('0')\n",
    "links = soup.find_all('a', class_='preview-file')\n",
    "# print(part)\n",
    "# print(links)"
   ]
  },
  {
   "cell_type": "code",
   "execution_count": 65,
   "id": "e4b983da",
   "metadata": {},
   "outputs": [],
   "source": [
    "form_names = []\n",
    "file_links = []\n",
    "file_dates = []\n",
    "entity_names = []"
   ]
  },
  {
   "cell_type": "code",
   "execution_count": 67,
   "id": "af0094c9",
   "metadata": {},
   "outputs": [],
   "source": [
    "for i in range(len(links)):\n",
    "    new_link = 'https://www.sec.gov/Archives/edgar/data/'+part+'/'+links[i].attrs['data-adsh'].replace('-', '')+'/'+links[i].attrs['data-file-name']\n",
    "    file_links.append(new_link)"
   ]
  },
  {
   "cell_type": "code",
   "execution_count": 69,
   "id": "99f9cf53",
   "metadata": {
    "scrolled": true
   },
   "outputs": [],
   "source": [
    "# print(file_links)"
   ]
  },
  {
   "cell_type": "code",
   "execution_count": 71,
   "id": "4387a170-20d8-42cd-8aff-35de079a5e44",
   "metadata": {},
   "outputs": [
    {
     "data": {
      "text/plain": [
       "(41, 2)"
      ]
     },
     "execution_count": 71,
     "metadata": {},
     "output_type": "execute_result"
    }
   ],
   "source": [
    "firmList.shape"
   ]
  },
  {
   "cell_type": "code",
   "execution_count": 73,
   "id": "32f024de",
   "metadata": {},
   "outputs": [
    {
     "name": "stdout",
     "output_type": "stream",
     "text": [
      "https://www.sec.gov/edgar/search/#/q=5.02&dateRange=custom&entityName=GM%252C%2520General%2520Motors%2520Co&startdt=2015-01-01&enddt=2023-02-24\n",
      "CIK Found: 1467858\n",
      "https://www.sec.gov/edgar/search/#/q=5.02&dateRange=custom&entityName=AEFSF%252C%2520Aeffe%2520SpA&startdt=2015-01-01&enddt=2023-02-24\n",
      "No results found for your search.\n",
      "https://www.sec.gov/edgar/search/#/q=5.02&dateRange=custom&entityName=ARGGY%252C%2520Aston%2520Martin%2520Lagonda%2520Global%2520Holdings%2520ADR%2520Representing%2520Ord%2520Shs&startdt=2015-01-01&enddt=2023-02-24\n",
      "No results found for your search.\n",
      "https://www.sec.gov/edgar/search/#/q=5.02&dateRange=custom&entityName=AMGDF%252C%2520Aston%2520Martin%2520Lagonda%2520Global%2520Holdings%2520PLC&startdt=2015-01-01&enddt=2023-02-24\n",
      "No results found for your search.\n",
      "https://www.sec.gov/edgar/search/#/q=5.02&dateRange=custom&entityName=BMWYY%252C%2520Bayerische%2520Motoren%2520Werke%2520ADR&startdt=2015-01-01&enddt=2023-02-24\n",
      "No results found for your search.\n",
      "https://www.sec.gov/edgar/search/#/q=5.02&dateRange=custom&entityName=BURBY%252C%2520Burberry%2520Group%2520ADR&startdt=2015-01-01&enddt=2023-02-24\n",
      "No results found for your search.\n",
      "https://www.sec.gov/edgar/search/#/q=5.02&dateRange=custom&entityName=CPRI%252C%2520Capri%2520Holdings%2520Ltd&startdt=2015-01-01&enddt=2023-02-24\n",
      "CIK Found: 1530721\n",
      "https://www.sec.gov/edgar/search/#/q=5.02&dateRange=custom&entityName=CFRHF%252C%2520Compagnie%2520Financiere%2520Richemont%2520SA&startdt=2015-01-01&enddt=2023-02-24\n",
      "No results found for your search.\n",
      "https://www.sec.gov/edgar/search/#/q=5.02&dateRange=custom&entityName=DKSHF%252C%2520DKSH%2520Holding%2520AG&startdt=2015-01-01&enddt=2023-02-24\n",
      "No results found for your search.\n",
      "https://www.sec.gov/edgar/search/#/q=5.02&dateRange=custom&entityName=ZGN%252C%2520Ermenegildo%2520Zegna%2520NV&startdt=2015-01-01&enddt=2023-02-24\n",
      "No results found for your search.\n",
      "https://www.sec.gov/edgar/search/#/q=5.02&dateRange=custom&entityName=ESLOY%252C%2520EssilorLuxottica%2520Unsponsored%2520ADR&startdt=2015-01-01&enddt=2023-02-24\n",
      "No results found for your search.\n",
      "https://www.sec.gov/edgar/search/#/q=5.02&dateRange=custom&entityName=EL%252C%2520Estee%2520Lauder%2520Companies%2520Inc&startdt=2015-01-01&enddt=2023-02-24\n",
      "CIK Found: 1001250\n",
      "https://www.sec.gov/edgar/search/#/q=5.02&dateRange=custom&entityName=RACE%252C%2520Ferrari%2520NV&startdt=2015-01-01&enddt=2023-02-24\n",
      "No results found for your search.\n",
      "https://www.sec.gov/edgar/search/#/q=5.02&dateRange=custom&entityName=F%252C%2520Ford%2520Motor%2520Co&startdt=2015-01-01&enddt=2023-02-24\n",
      "CIK Found: 37996\n",
      "https://www.sec.gov/edgar/search/#/q=5.02&dateRange=custom&entityName=GELYY%252C%2520Geely%2520Automobile%2520Holding%2520ADR&startdt=2015-01-01&enddt=2023-02-24\n",
      "No results found for your search.\n",
      "https://www.sec.gov/edgar/search/#/q=5.02&dateRange=custom&entityName=HESAY%252C%2520Hermes%2520Intl%2520S%2520A%2520Unsponsored%2520France%2520ADR&startdt=2015-01-01&enddt=2023-02-24\n",
      "No results found for your search.\n",
      "https://www.sec.gov/edgar/search/#/q=5.02&dateRange=custom&entityName=HMC%252C%2520Honda%2520Motor%2520Co%2520Ltd&startdt=2015-01-01&enddt=2023-02-24\n",
      "CIK Found: 715153\n",
      "https://www.sec.gov/edgar/search/#/q=5.02&dateRange=custom&entityName=BOSSY%252C%2520Hugo%2520Boss%2520AG%2520-%2520ADR&startdt=2015-01-01&enddt=2023-02-24\n",
      "No results found for your search.\n",
      "https://www.sec.gov/edgar/search/#/q=5.02&dateRange=custom&entityName=HYMTF%252C%2520Hyundai%2520Motor%2520Company%2520GDR&startdt=2015-01-01&enddt=2023-02-24\n",
      "No results found for your search.\n",
      "https://www.sec.gov/edgar/search/#/q=5.02&dateRange=custom&entityName=IHG%252C%2520InterContinental%2520Hotels%2520Group%2520PLC&startdt=2015-01-01&enddt=2023-02-24\n",
      "CIK Found: 858446\n",
      "https://www.sec.gov/edgar/search/#/q=5.02&dateRange=custom&entityName=PPRUF%252C%2520Kering%2520SA&startdt=2015-01-01&enddt=2023-02-24\n",
      "No results found for your search.\n",
      "https://www.sec.gov/edgar/search/#/q=5.02&dateRange=custom&entityName=LRLCY%252C%2520L%2520Oreal%2520ADR&startdt=2015-01-01&enddt=2023-02-24\n",
      "No results found for your search.\n",
      "https://www.sec.gov/edgar/search/#/q=5.02&dateRange=custom&entityName=LVMHF%252C%2520LVMH%2520Moet%2520Hennessy%2520Louis%2520Vuitton%2520SE&startdt=2015-01-01&enddt=2023-02-24\n",
      "No results found for your search.\n",
      "https://www.sec.gov/edgar/search/#/q=5.02&dateRange=custom&entityName=MAR%252C%2520Marriott%2520International%2520Inc&startdt=2015-01-01&enddt=2023-02-24\n",
      "CIK Found: 1048286\n",
      "https://www.sec.gov/edgar/search/#/q=5.02&dateRange=custom&entityName=MBGAF%252C%2520Mercedes-Benz%2520Group%2520AG&startdt=2015-01-01&enddt=2023-02-24\n",
      "No results found for your search.\n",
      "https://www.sec.gov/edgar/search/#/q=5.02&dateRange=custom&entityName=MONR%252C%2520Moncler%2520S%2520P%2520A%2520Unsponsored%2520Italy%2520ADR&startdt=2015-01-01&enddt=2023-02-24\n",
      "No results found for your search.\n",
      "https://www.sec.gov/edgar/search/#/q=5.02&dateRange=custom&entityName=NSANY%252C%2520Nissan%2520Motor%2520Co%2520Ltd&startdt=2015-01-01&enddt=2023-02-24\n",
      "No results found for your search.\n",
      "https://www.sec.gov/edgar/search/#/q=5.02&dateRange=custom&entityName=PRDSY%252C%2520Prada%2520Spa%2520Unsponsored%2520Italy%2520ADR&startdt=2015-01-01&enddt=2023-02-24\n",
      "No results found for your search.\n",
      "https://www.sec.gov/edgar/search/#/q=5.02&dateRange=custom&entityName=SFRGY%252C%2520Salvatore%2520Ferragamo%2520S%2520P%2520A%2520Unsponsored%2520Italy%2520ADR&startdt=2015-01-01&enddt=2023-02-24\n",
      "No results found for your search.\n",
      "https://www.sec.gov/edgar/search/#/q=5.02&dateRange=custom&entityName=PG%252C%2520Procter%2520%2520Gamble%2520Co&startdt=2015-01-01&enddt=2023-02-24\n",
      "CIK Found: 80424\n",
      "https://www.sec.gov/edgar/search/#/q=5.02&dateRange=custom&entityName=PUIGF%252C%2520Puig%2520Brands%2520SA&startdt=2015-01-01&enddt=2023-02-24\n",
      "No results found for your search.\n",
      "https://www.sec.gov/edgar/search/#/q=5.02&dateRange=custom&entityName=PVH%252C%2520PVH%2520Corp&startdt=2015-01-01&enddt=2023-02-24\n",
      "CIK Found: 78239\n",
      "https://www.sec.gov/edgar/search/#/q=5.02&dateRange=custom&entityName=RL%252C%2520Ralph%2520Lauren%2520Corp&startdt=2015-01-01&enddt=2023-02-24\n",
      "CIK Found: 1037038\n",
      "https://www.sec.gov/edgar/search/#/q=5.02&dateRange=custom&entityName=RYCEF%252C%2520Rolls-Royce%2520Holdings%2520PLC&startdt=2015-01-01&enddt=2023-02-24\n",
      "No results found for your search.\n",
      "https://www.sec.gov/edgar/search/#/q=5.02&dateRange=custom&entityName=SSDOY%252C%2520Shiseido%2520Co%2520Ltd&startdt=2015-01-01&enddt=2023-02-24\n",
      "No results found for your search.\n",
      "https://www.sec.gov/edgar/search/#/q=5.02&dateRange=custom&entityName=STLA%252C%2520Stellantis%2520NV&startdt=2015-01-01&enddt=2023-02-24\n",
      "No results found for your search.\n",
      "https://www.sec.gov/edgar/search/#/q=5.02&dateRange=custom&entityName=SWAGY%252C%2520Swatch%2520Group%2520ADR&startdt=2015-01-01&enddt=2023-02-24\n",
      "No results found for your search.\n",
      "https://www.sec.gov/edgar/search/#/q=5.02&dateRange=custom&entityName=TPR%252C%2520Tapestry%2520Inc&startdt=2015-01-01&enddt=2023-02-24\n",
      "CIK Found: 1116132\n",
      "https://www.sec.gov/edgar/search/#/q=5.02&dateRange=custom&entityName=TSLA%252C%2520Tesla%2520Inc&startdt=2015-01-01&enddt=2023-02-24\n",
      "CIK Found: 1318605\n",
      "https://www.sec.gov/edgar/search/#/q=5.02&dateRange=custom&entityName=TYHOF%252C%2520Toyota%2520Tsusho%2520Corp&startdt=2015-01-01&enddt=2023-02-24\n",
      "No results found for your search.\n",
      "https://www.sec.gov/edgar/search/#/q=5.02&dateRange=custom&entityName=VWAGY%252C%2520Volkswagen%2520A%2520G%2520Unsponsored%2520Represent%25201%252010th%2520Sh%2520ADR&startdt=2015-01-01&enddt=2023-02-24\n",
      "No results found for your search.\n"
     ]
    }
   ],
   "source": [
    "# look through firms by ticker\n",
    "for i in range(0, firmList.shape[0]):\n",
    "    firm_name = firmList['firm'][i].replace('THE', '').replace('LIMITED', '').replace(' ', '%2520').replace('&', '%2526')\n",
    "    ticker = firmList['ticker'][i]\n",
    "\n",
    "    # assemble page link\n",
    "    url = 'https://www.sec.gov/edgar/search/#/q=5.02'+'&dateRange=custom&'+ 'entityName='+ ticker + '%252C%2520'+firm_name + '&startdt=2015-01-01&enddt=2023-02-24'\n",
    "    print(url)\n",
    "    driver.get(url)\n",
    "    time.sleep(2)  # Wait for the new results to load \n",
    "    \n",
    "    driver.refresh()\n",
    "    time.sleep(1)  \n",
    "    \n",
    "    # Define the number of times to scroll\n",
    "    scroll_count = 5\n",
    "    \n",
    "    # Simulate continuous scrolling using JavaScript\n",
    "    for _ in range(scroll_count):\n",
    "        driver.execute_script(\"window.scrollTo(0, document.body.scrollHeight);\")\n",
    "        time.sleep(4)  # Wait for the new results to load \n",
    "    \n",
    "    # get page source\n",
    "    html = driver.page_source\n",
    "    soup = BeautifulSoup(html, 'lxml')\n",
    "\n",
    "\n",
    "    # initiate data frame\n",
    "    form_names = []\n",
    "    file_links = []\n",
    "    file_dates = []\n",
    "    entity_names = []\n",
    "\n",
    "    form_names = [i.text for i in soup.find_all('a', class_='preview-file')]\n",
    "    file_dates = [i.text for i in soup.find_all('td', class_='filed')]\n",
    "    entity_names = [i.text for i in soup.find_all('td', class_='entity-name')]\n",
    "\n",
    "    # download directory\n",
    "    directory = (ticker)\n",
    "    if not os.path.exists(directory):\n",
    "        os.makedirs(directory)\n",
    "\n",
    "\n",
    "    no_results_element = soup.find('div', class_='col-sm-12', role='alert', style='display: block;')\n",
    "    if no_results_element and no_results_element.find('h4', class_='text-center') and 'No results found for your search!' in no_results_element.text:\n",
    "        print(\"No results found for your search.\")\n",
    "    else:\n",
    "        # Check for the 'td' element with class 'cik d-none'\n",
    "        cik_element = soup.find('td', class_='cik d-none')\n",
    "        if cik_element:\n",
    "            part = cik_element.text.replace('CIK ', '').lstrip('0')\n",
    "            print(f\"CIK Found: {part}\")        \n",
    "    \n",
    "            part= soup.find('td', class_='cik d-none').text.replace('CIK ', '').lstrip('0')\n",
    "            links = soup.find_all('a', class_='preview-file')\n",
    "            for i in range(len(links)):\n",
    "                new_link = 'https://www.sec.gov/Archives/edgar/data/'+part+'/'+links[i].attrs['data-adsh'].replace('-', '')+'/'+links[i].attrs['data-file-name']\n",
    "                file_links.append(new_link)\n",
    "        \n",
    "            dict = {'Ticker': [ticker]*len(form_names), 'Entity Name': entity_names, 'Form Name': form_names, 'File Date':file_dates, 'URL': file_links} \n",
    "            df = pd.DataFrame(dict)\n",
    "            df = df[df['Form Name'].str.contains('8-K')]\n",
    "            df = df[~df['Form Name'].str.contains('EX-')]\n",
    "        \n",
    "            # dowloand files\n",
    "            for url, file_date in zip(df['URL'], df['File Date']):\n",
    "                try:\n",
    "                    if 'htm' in url:\n",
    "                        # Convert HTML to PDF using pdfkit\n",
    "                        pdf_file_path = os.path.join(directory, f'{file_date}.pdf')\n",
    "                        pdfkit.from_url(url, pdf_file_path)\n",
    "                    elif 'pdf' in url:\n",
    "                        # Directly download PDF files\n",
    "                        pdf_file_path = os.path.join(directory, f'{file_date}.pdf')\n",
    "                        headers = {'user-agent': 'Mozilla/5.0 (Windows NT 10.0; Win64; x64) AppleWebKit/537.36 (KHTML, like Gecko) Chrome/91.0.4472.114 Safari/537.36'}\n",
    "                        response = requests.get(url, headers = headers, stream = True, allow_redirects=True)\n",
    "                        if response.status_code == 200:\n",
    "                            with open(pdf_file_path, 'wb') as pdf_file:\n",
    "                                pdf_file.write(response.content)\n",
    "                        else:\n",
    "                            print(f\"Failed to download file from {url}\")\n",
    "                    else:\n",
    "                        print(f\"Unsupported file format for URL: {url}\")\n",
    "                except Exception as e:\n",
    "                    print(f\"Error processing URL: {url}\")\n",
    "                    print(f\"Error details: {str(e)}\")\n",
    "        \n",
    "            df.to_csv('results3.csv', mode='a', header=False, index=False)"
   ]
  },
  {
   "cell_type": "code",
   "execution_count": null,
   "id": "377950d8",
   "metadata": {},
   "outputs": [],
   "source": [
    "# initiate data frame\n",
    "form_names = []\n",
    "file_links = []\n",
    "file_dates = []\n",
    "entity_names = []"
   ]
  },
  {
   "cell_type": "code",
   "execution_count": null,
   "id": "9795d4a0",
   "metadata": {},
   "outputs": [],
   "source": [
    "form_names = [i.text for i in soup.find_all('a', class_='preview-file')]\n",
    "file_dates = [i.text for i in soup.find_all('td', class_='filed')]\n",
    "entity_names = [i.text for i in soup.find_all('td', class_='entity-name')]"
   ]
  },
  {
   "cell_type": "code",
   "execution_count": null,
   "id": "4de238a6",
   "metadata": {},
   "outputs": [],
   "source": [
    "# download directory\n",
    "directory = (ticker)\n",
    "if not os.path.exists(directory):\n",
    "    os.makedirs(directory)"
   ]
  },
  {
   "cell_type": "code",
   "execution_count": null,
   "id": "ade9db1b",
   "metadata": {},
   "outputs": [],
   "source": [
    "dict = {'Ticker': [ticker]*len(form_names), 'Entity Name': entity_names, 'Form Name': form_names, 'File Date':file_dates, 'URL': file_links} \n",
    "df['Form Name'] = df['Form Name'].astype(str)\n",
    "df = df[df['Form Name'].str.contains('8-K', na=False)]\n",
    "df = df[~df['Form Name'].str.contains('EX-', na=False)]"
   ]
  },
  {
   "cell_type": "code",
   "execution_count": null,
   "id": "e22f0e26",
   "metadata": {},
   "outputs": [],
   "source": [
    "# dowloand files\n",
    "for url, file_date in zip(df['URL'], df['File Date']):\n",
    "    try:\n",
    "        if 'htm' in url:\n",
    "            # Convert HTML to PDF using pdfkit\n",
    "            pdf_file_path = os.path.join(directory, f'{file_date}.pdf')\n",
    "            pdfkit.from_url(url, pdf_file_path)\n",
    "        elif 'pdf' in url:\n",
    "            # Directly download PDF files\n",
    "            pdf_file_path = os.path.join(directory, f'{file_date}.pdf')\n",
    "            headers = {'user-agent': 'Mozilla/5.0 (Windows NT 10.0; Win64; x64) AppleWebKit/537.36 (KHTML, like Gecko) Chrome/91.0.4472.114 Safari/537.36'}\n",
    "            response = requests.get(url, headers = headers, stream = True, allow_redirects=True)\n",
    "            if response.status_code == 200:\n",
    "                with open(pdf_file_path, 'wb') as pdf_file:\n",
    "                    pdf_file.write(response.content)\n",
    "            else:\n",
    "                print(f\"Failed to download file from {url}\")\n",
    "        else:\n",
    "            print(f\"Unsupported file format for URL: {url}\")\n",
    "    except Exception as e:\n",
    "        print(f\"Error processing URL: {url}\")\n",
    "        print(f\"Error details: {str(e)}\")"
   ]
  },
  {
   "cell_type": "code",
   "execution_count": null,
   "id": "feeaafa7",
   "metadata": {},
   "outputs": [],
   "source": [
    "df.to_csv('results3.csv', mode='a', header=False, index=False)"
   ]
  },
  {
   "cell_type": "code",
   "execution_count": null,
   "id": "266722e4",
   "metadata": {},
   "outputs": [],
   "source": []
  },
  {
   "cell_type": "code",
   "execution_count": null,
   "id": "51caddb9",
   "metadata": {},
   "outputs": [],
   "source": []
  }
 ],
 "metadata": {
  "kernelspec": {
   "display_name": "Python 3 (ipykernel)",
   "language": "python",
   "name": "python3"
  },
  "language_info": {
   "codemirror_mode": {
    "name": "ipython",
    "version": 3
   },
   "file_extension": ".py",
   "mimetype": "text/x-python",
   "name": "python",
   "nbconvert_exporter": "python",
   "pygments_lexer": "ipython3",
   "version": "3.12.7"
  }
 },
 "nbformat": 4,
 "nbformat_minor": 5
}
